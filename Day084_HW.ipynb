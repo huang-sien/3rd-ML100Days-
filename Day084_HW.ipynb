{
 "cells": [
  {
   "cell_type": "markdown",
   "metadata": {},
   "source": [
    "## Work\n",
    "### 請結合前面的知識與程式碼，比較不同的 regularization 的組合對訓練的結果與影響：如 dropout, regularizers, batch-normalization 等"
   ]
  },
  {
   "cell_type": "code",
   "execution_count": 1,
   "metadata": {},
   "outputs": [
    {
     "name": "stderr",
     "output_type": "stream",
     "text": [
      "Using TensorFlow backend.\n"
     ]
    }
   ],
   "source": [
    "import os\n",
    "import keras\n",
    "import itertools\n",
    "# Disable GPU\n",
    "os.environ[\"CUDA_VISIBLE_DEVICES\"] = \"\""
   ]
  },
  {
   "cell_type": "code",
   "execution_count": 2,
   "metadata": {},
   "outputs": [],
   "source": [
    "train, test = keras.datasets.cifar10.load_data()"
   ]
  },
  {
   "cell_type": "code",
   "execution_count": 3,
   "metadata": {},
   "outputs": [],
   "source": [
    "## 資料前處理\n",
    "def preproc_x(x, flatten=True):\n",
    "    x = x / 255.\n",
    "    if flatten:\n",
    "        x = x.reshape((len(x), -1))\n",
    "    return x\n",
    "\n",
    "def preproc_y(y, num_classes=10):\n",
    "    if y.shape[-1] == 1:\n",
    "        y = keras.utils.to_categorical(y, num_classes)\n",
    "    return y    "
   ]
  },
  {
   "cell_type": "code",
   "execution_count": 4,
   "metadata": {},
   "outputs": [],
   "source": [
    "x_train, y_train = train\n",
    "x_test, y_test = test\n",
    "\n",
    "# Preproc the inputs\n",
    "x_train = preproc_x(x_train)\n",
    "x_test = preproc_x(x_test)\n",
    "\n",
    "# Preprc the outputs\n",
    "y_train = preproc_y(y_train)\n",
    "y_test = preproc_y(y_test)"
   ]
  },
  {
   "cell_type": "code",
   "execution_count": 11,
   "metadata": {},
   "outputs": [],
   "source": [
    "from keras.layers import Dropout\n",
    "from keras.regularizers import l1, l1_l2\n",
    "\n",
    "\"\"\"\n",
    "建立神經網路，並加入 dropout layer\n",
    "\"\"\"\n",
    "def build_mlp(input_shape, output_units=10, num_neurons=[512, 256, 128], drp_ratio=0.15,l2_ratio=1e-4):\n",
    "    input_layer = keras.layers.Input(input_shape)\n",
    "    \n",
    "    for i, n_units in enumerate(num_neurons):\n",
    "        if i == 0:\n",
    "            x = keras.layers.Dense(units=n_units, \n",
    "                                   activation=\"relu\", \n",
    "                                   name=\"hidden_layer\"+str(i+1),\n",
    "                                  kernel_regularizer=l1_l2(l2_ratio))(input_layer)\n",
    "            x = Dropout(drp_ratio)(x)\n",
    "        else:\n",
    "            x = keras.layers.Dense(units=n_units, \n",
    "                                   activation=\"relu\", \n",
    "                                   name=\"hidden_layer\"+str(i+1),\n",
    "                                  kernel_regularizer=l1_l2(l2_ratio))(x)\n",
    "            x = Dropout(drp_ratio)(x)\n",
    "    \n",
    "    out = keras.layers.Dense(units=output_units, activation=\"softmax\", name=\"output\")(x)\n",
    "    \n",
    "    model = keras.models.Model(inputs=[input_layer], outputs=[out])\n",
    "    return model"
   ]
  },
  {
   "cell_type": "code",
   "execution_count": 12,
   "metadata": {},
   "outputs": [],
   "source": [
    "\"\"\"Code Here\n",
    "設定超參數\n",
    "\"\"\"\n",
    "LEARNING_RATE = 1e-3\n",
    "EPOCHS = 20\n",
    "BATCH_SIZE = 256\n",
    "MOMENTUM = 0.95\n",
    "Dropout_EXP = 0.25"
   ]
  },
  {
   "cell_type": "code",
   "execution_count": 13,
   "metadata": {
    "scrolled": true
   },
   "outputs": [
    {
     "name": "stdout",
     "output_type": "stream",
     "text": [
      "Model: \"model_1\"\n",
      "_________________________________________________________________\n",
      "Layer (type)                 Output Shape              Param #   \n",
      "=================================================================\n",
      "input_2 (InputLayer)         (None, 3072)              0         \n",
      "_________________________________________________________________\n",
      "hidden_layer1 (Dense)        (None, 512)               1573376   \n",
      "_________________________________________________________________\n",
      "dropout_1 (Dropout)          (None, 512)               0         \n",
      "_________________________________________________________________\n",
      "hidden_layer2 (Dense)        (None, 256)               131328    \n",
      "_________________________________________________________________\n",
      "dropout_2 (Dropout)          (None, 256)               0         \n",
      "_________________________________________________________________\n",
      "hidden_layer3 (Dense)        (None, 128)               32896     \n",
      "_________________________________________________________________\n",
      "dropout_3 (Dropout)          (None, 128)               0         \n",
      "_________________________________________________________________\n",
      "output (Dense)               (None, 10)                1290      \n",
      "=================================================================\n",
      "Total params: 1,738,890\n",
      "Trainable params: 1,738,890\n",
      "Non-trainable params: 0\n",
      "_________________________________________________________________\n",
      "Train on 50000 samples, validate on 10000 samples\n",
      "Epoch 1/20\n",
      "50000/50000 [==============================] - 22s 433us/step - loss: 18.8983 - accuracy: 0.2084 - val_loss: 17.4085 - val_accuracy: 0.3122\n",
      "Epoch 2/20\n",
      "50000/50000 [==============================] - 19s 384us/step - loss: 16.2309 - accuracy: 0.2955 - val_loss: 15.0056 - val_accuracy: 0.3491\n",
      "Epoch 3/20\n",
      "50000/50000 [==============================] - 18s 359us/step - loss: 14.0313 - accuracy: 0.3272 - val_loss: 12.9967 - val_accuracy: 0.3644\n",
      "Epoch 4/20\n",
      "50000/50000 [==============================] - 21s 410us/step - loss: 12.1738 - accuracy: 0.3470 - val_loss: 11.2903 - val_accuracy: 0.3812\n",
      "Epoch 5/20\n",
      "50000/50000 [==============================] - 17s 339us/step - loss: 10.5988 - accuracy: 0.3562 - val_loss: 9.8373 - val_accuracy: 0.3830\n",
      "Epoch 6/20\n",
      "50000/50000 [==============================] - 17s 347us/step - loss: 9.2525 - accuracy: 0.3690 - val_loss: 8.6045 - val_accuracy: 0.3898\n",
      "Epoch 7/20\n",
      "50000/50000 [==============================] - 18s 369us/step - loss: 8.1101 - accuracy: 0.3721 - val_loss: 7.5527 - val_accuracy: 0.3979\n",
      "Epoch 8/20\n",
      "50000/50000 [==============================] - 16s 326us/step - loss: 7.1361 - accuracy: 0.3787 - val_loss: 6.6519 - val_accuracy: 0.4080\n",
      "Epoch 9/20\n",
      "50000/50000 [==============================] - 18s 353us/step - loss: 6.3062 - accuracy: 0.3861 - val_loss: 5.8941 - val_accuracy: 0.4041\n",
      "Epoch 10/20\n",
      "50000/50000 [==============================] - 15s 310us/step - loss: 5.6058 - accuracy: 0.3882 - val_loss: 5.2458 - val_accuracy: 0.4056\n",
      "Epoch 11/20\n",
      "50000/50000 [==============================] - 15s 304us/step - loss: 5.0037 - accuracy: 0.3928 - val_loss: 4.6921 - val_accuracy: 0.4136\n",
      "Epoch 12/20\n",
      "50000/50000 [==============================] - 14s 283us/step - loss: 4.4906 - accuracy: 0.3990 - val_loss: 4.2219 - val_accuracy: 0.4157\n",
      "Epoch 13/20\n",
      "50000/50000 [==============================] - 14s 282us/step - loss: 4.0602 - accuracy: 0.3975 - val_loss: 3.8248 - val_accuracy: 0.4214\n",
      "Epoch 14/20\n",
      "50000/50000 [==============================] - 14s 282us/step - loss: 3.6903 - accuracy: 0.4011 - val_loss: 3.4923 - val_accuracy: 0.4210\n",
      "Epoch 15/20\n",
      "50000/50000 [==============================] - 14s 288us/step - loss: 3.3803 - accuracy: 0.4070 - val_loss: 3.2091 - val_accuracy: 0.4189\n",
      "Epoch 16/20\n",
      "50000/50000 [==============================] - 14s 286us/step - loss: 3.1200 - accuracy: 0.4047 - val_loss: 2.9675 - val_accuracy: 0.4245\n",
      "Epoch 17/20\n",
      "50000/50000 [==============================] - 14s 286us/step - loss: 2.8970 - accuracy: 0.4083 - val_loss: 2.7663 - val_accuracy: 0.4259\n",
      "Epoch 18/20\n",
      "50000/50000 [==============================] - 14s 287us/step - loss: 2.7141 - accuracy: 0.4103 - val_loss: 2.5994 - val_accuracy: 0.4285\n",
      "Epoch 19/20\n",
      "50000/50000 [==============================] - 15s 290us/step - loss: 2.5600 - accuracy: 0.4112 - val_loss: 2.4719 - val_accuracy: 0.4262\n",
      "Epoch 20/20\n",
      "50000/50000 [==============================] - 14s 287us/step - loss: 2.4327 - accuracy: 0.4135 - val_loss: 2.3453 - val_accuracy: 0.4308\n"
     ]
    }
   ],
   "source": [
    "results = {}\n",
    "\"\"\"Code Here\n",
    "撰寫你的訓練流程並將結果用 dictionary 紀錄\n",
    "\"\"\"\n",
    "model = build_mlp(input_shape=x_train.shape[1:])\n",
    "model.summary()\n",
    "optimizer = keras.optimizers.SGD(lr=LEARNING_RATE, nesterov=True, momentum=MOMENTUM)\n",
    "model.compile(loss=\"categorical_crossentropy\", metrics=[\"accuracy\"], optimizer=optimizer)\n",
    "\n",
    "model.fit(x_train, y_train, \n",
    "          epochs=EPOCHS, \n",
    "          batch_size=BATCH_SIZE, \n",
    "          validation_data=(x_test, y_test), \n",
    "          shuffle=True)\n",
    "\n",
    "train_loss = model.history.history[\"loss\"]\n",
    "valid_loss = model.history.history[\"val_loss\"]\n",
    "train_acc = model.history.history[\"accuracy\"]\n",
    "valid_acc = model.history.history[\"val_accuracy\"]"
   ]
  },
  {
   "cell_type": "code",
   "execution_count": 14,
   "metadata": {},
   "outputs": [
    {
     "data": {
      "image/png": "[encoded data removed]",
      "text/plain": [
       "<Figure size 432x288 with 1 Axes>"
      ]
     },
     "metadata": {
      "needs_background": "light"
     },
     "output_type": "display_data"
    },
    {
     "data": {
      "image/png": "[encoded data removed]",
      "text/plain": [
       "<Figure size 432x288 with 1 Axes>"
      ]
     },
     "metadata": {
      "needs_background": "light"
     },
     "output_type": "display_data"
    }
   ],
   "source": [
    "\n",
    "import matplotlib.pyplot as plt\n",
    "%matplotlib inline\n",
    "\n",
    "plt.plot(range(len(train_loss)), train_loss, label=\"train loss\")\n",
    "plt.plot(range(len(valid_loss)), valid_loss, label=\"valid loss\")\n",
    "plt.legend()\n",
    "plt.title(\"Loss\")\n",
    "plt.show()\n",
    "\n",
    "plt.plot(range(len(train_acc)), train_acc, label=\"train accuracy\")\n",
    "plt.plot(range(len(valid_acc)), valid_acc, label=\"valid accuracy\")\n",
    "plt.legend()\n",
    "plt.title(\"Accuracy\")\n",
    "plt.show()"
   ]
  },
  {
   "cell_type": "code",
   "execution_count": null,
   "metadata": {},
   "outputs": [],
   "source": []
  }
 ],
 "metadata": {
  "kernelspec": {
   "display_name": "Python 3",
   "language": "python",
   "name": "python3"
  },
  "language_info": {
   "codemirror_mode": {
    "name": "ipython",
    "version": 3
   },
   "file_extension": ".py",
   "mimetype": "text/x-python",
   "name": "python",
   "nbconvert_exporter": "python",
   "pygments_lexer": "ipython3",
   "version": "3.7.3"
  }
 },
 "nbformat": 4,
 "nbformat_minor": 2
}
