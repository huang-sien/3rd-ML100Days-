{
 "cells": [
  {
   "cell_type": "markdown",
   "metadata": {},
   "source": [
    "## Work\n",
    "1. 試比較有 BN 在 Batch_size = 2, 16, 32, 128, 256 下的差異\n",
    "2. 請嘗試將 BN 放在 Activation 之前，並比較訓練結果\n",
    "3. 請於 BN 放在 Input Layer 後，並比較結果"
   ]
  },
  {
   "cell_type": "code",
   "execution_count": 1,
   "metadata": {},
   "outputs": [
    {
     "name": "stderr",
     "output_type": "stream",
     "text": [
      "Using TensorFlow backend.\n"
     ]
    }
   ],
   "source": [
    "import os\n",
    "import keras\n",
    "import itertools\n",
    "# Disable GPU\n",
    "os.environ[\"CUDA_VISIBLE_DEVICES\"] = \"\""
   ]
  },
  {
   "cell_type": "code",
   "execution_count": 2,
   "metadata": {},
   "outputs": [],
   "source": [
    "train, test = keras.datasets.cifar10.load_data()"
   ]
  },
  {
   "cell_type": "code",
   "execution_count": 3,
   "metadata": {},
   "outputs": [],
   "source": [
    "## 資料前處理\n",
    "def preproc_x(x, flatten=True):\n",
    "    x = x / 255.\n",
    "    if flatten:\n",
    "        x = x.reshape((len(x), -1))\n",
    "    return x\n",
    "\n",
    "def preproc_y(y, num_classes=10):\n",
    "    if y.shape[-1] == 1:\n",
    "        y = keras.utils.to_categorical(y, num_classes)\n",
    "    return y    "
   ]
  },
  {
   "cell_type": "code",
   "execution_count": 4,
   "metadata": {},
   "outputs": [],
   "source": [
    "x_train, y_train = train\n",
    "x_test, y_test = test\n",
    "\n",
    "# Preproc the inputs\n",
    "x_train = preproc_x(x_train)\n",
    "x_test = preproc_x(x_test)\n",
    "\n",
    "# Preprc the outputs\n",
    "y_train = preproc_y(y_train)\n",
    "y_test = preproc_y(y_test)"
   ]
  },
  {
   "cell_type": "code",
   "execution_count": 6,
   "metadata": {},
   "outputs": [],
   "source": [
    "def build_mlp(input_shape, output_units=10, num_neurons=[512, 256, 128]):\n",
    "    input_layer = keras.layers.Input(input_shape)\n",
    "    \n",
    "    for i, n_units in enumerate(num_neurons):\n",
    "        if i == 0:\n",
    "            x = keras.layers.Dense(units=n_units, \n",
    "                                   activation=\"relu\", \n",
    "                                   name=\"hidden_layer\"+str(i+1))(input_layer)\n",
    "            x = BatchNormalization()(x)\n",
    "        else:\n",
    "            x = keras.layers.Dense(units=n_units, \n",
    "                                   activation=\"relu\", \n",
    "                                   name=\"hidden_layer\"+str(i+1))(x)\n",
    "            x = BatchNormalization()(x)\n",
    "    \n",
    "    out = keras.layers.Dense(units=output_units, activation=\"softmax\", name=\"output\")(x)\n",
    "    \n",
    "    model = keras.models.Model(inputs=[input_layer], outputs=[out])\n",
    "    return model"
   ]
  },
  {
   "cell_type": "code",
   "execution_count": 7,
   "metadata": {},
   "outputs": [],
   "source": [
    "## 超參數設定\n",
    "LEARNING_RATE = 1e-3\n",
    "EPOCHS = 20\n",
    "BATCH_SIZE = 1024\n",
    "MOMENTUM = 0.95"
   ]
  },
  {
   "cell_type": "code",
   "execution_count": 9,
   "metadata": {
    "scrolled": true
   },
   "outputs": [
    {
     "name": "stdout",
     "output_type": "stream",
     "text": [
      "Model: \"model_1\"\n",
      "_________________________________________________________________\n",
      "Layer (type)                 Output Shape              Param #   \n",
      "=================================================================\n",
      "input_2 (InputLayer)         (None, 3072)              0         \n",
      "_________________________________________________________________\n",
      "hidden_layer1 (Dense)        (None, 512)               1573376   \n",
      "_________________________________________________________________\n",
      "batch_normalization_1 (Batch (None, 512)               2048      \n",
      "_________________________________________________________________\n",
      "hidden_layer2 (Dense)        (None, 256)               131328    \n",
      "_________________________________________________________________\n",
      "batch_normalization_2 (Batch (None, 256)               1024      \n",
      "_________________________________________________________________\n",
      "hidden_layer3 (Dense)        (None, 128)               32896     \n",
      "_________________________________________________________________\n",
      "batch_normalization_3 (Batch (None, 128)               512       \n",
      "_________________________________________________________________\n",
      "output (Dense)               (None, 10)                1290      \n",
      "=================================================================\n",
      "Total params: 1,742,474\n",
      "Trainable params: 1,740,682\n",
      "Non-trainable params: 1,792\n",
      "_________________________________________________________________\n",
      "Train on 50000 samples, validate on 10000 samples\n",
      "Epoch 1/20\n",
      "50000/50000 [==============================] - 10s 198us/step - loss: 2.2235 - accuracy: 0.2682 - val_loss: 2.1874 - val_accuracy: 0.1829\n",
      "Epoch 2/20\n",
      "50000/50000 [==============================] - 9s 172us/step - loss: 1.7486 - accuracy: 0.3904 - val_loss: 1.9863 - val_accuracy: 0.2767\n",
      "Epoch 3/20\n",
      "50000/50000 [==============================] - 8s 164us/step - loss: 1.6206 - accuracy: 0.4319 - val_loss: 1.8195 - val_accuracy: 0.3671\n",
      "Epoch 4/20\n",
      "50000/50000 [==============================] - 9s 172us/step - loss: 1.5500 - accuracy: 0.4578 - val_loss: 1.7201 - val_accuracy: 0.4069\n",
      "Epoch 5/20\n",
      "50000/50000 [==============================] - 8s 164us/step - loss: 1.4943 - accuracy: 0.4780 - val_loss: 1.6327 - val_accuracy: 0.4369\n",
      "Epoch 6/20\n",
      "50000/50000 [==============================] - 9s 173us/step - loss: 1.4497 - accuracy: 0.4939 - val_loss: 1.5830 - val_accuracy: 0.4492\n",
      "Epoch 7/20\n",
      "50000/50000 [==============================] - 8s 164us/step - loss: 1.4091 - accuracy: 0.5088 - val_loss: 1.5513 - val_accuracy: 0.4570\n",
      "Epoch 8/20\n",
      "50000/50000 [==============================] - 9s 174us/step - loss: 1.3742 - accuracy: 0.5192 - val_loss: 1.5262 - val_accuracy: 0.4630\n",
      "Epoch 9/20\n",
      "50000/50000 [==============================] - 8s 164us/step - loss: 1.3415 - accuracy: 0.5309 - val_loss: 1.5065 - val_accuracy: 0.4709\n",
      "Epoch 10/20\n",
      "50000/50000 [==============================] - 9s 171us/step - loss: 1.3125 - accuracy: 0.5424 - val_loss: 1.4926 - val_accuracy: 0.4774\n",
      "Epoch 11/20\n",
      "50000/50000 [==============================] - 9s 171us/step - loss: 1.2836 - accuracy: 0.5535 - val_loss: 1.4737 - val_accuracy: 0.4841\n",
      "Epoch 12/20\n",
      "50000/50000 [==============================] - 9s 185us/step - loss: 1.2579 - accuracy: 0.5645 - val_loss: 1.4747 - val_accuracy: 0.4820\n",
      "Epoch 13/20\n",
      "50000/50000 [==============================] - 8s 169us/step - loss: 1.2317 - accuracy: 0.5734 - val_loss: 1.4620 - val_accuracy: 0.4861\n",
      "Epoch 14/20\n",
      "50000/50000 [==============================] - 8s 170us/step - loss: 1.2083 - accuracy: 0.5828 - val_loss: 1.4679 - val_accuracy: 0.4803\n",
      "Epoch 15/20\n",
      "50000/50000 [==============================] - 9s 172us/step - loss: 1.1855 - accuracy: 0.5908 - val_loss: 1.4580 - val_accuracy: 0.4928\n",
      "Epoch 16/20\n",
      "50000/50000 [==============================] - 9s 170us/step - loss: 1.1623 - accuracy: 0.5997 - val_loss: 1.4688 - val_accuracy: 0.4818\n",
      "Epoch 17/20\n",
      "50000/50000 [==============================] - 9s 173us/step - loss: 1.1371 - accuracy: 0.6076 - val_loss: 1.4610 - val_accuracy: 0.4853\n",
      "Epoch 18/20\n",
      "50000/50000 [==============================] - 8s 167us/step - loss: 1.1181 - accuracy: 0.6166 - val_loss: 1.4498 - val_accuracy: 0.4885\n",
      "Epoch 19/20\n",
      "50000/50000 [==============================] - 9s 176us/step - loss: 1.0939 - accuracy: 0.6258 - val_loss: 1.4527 - val_accuracy: 0.4951\n",
      "Epoch 20/20\n",
      "50000/50000 [==============================] - 8s 168us/step - loss: 1.0721 - accuracy: 0.6325 - val_loss: 1.4554 - val_accuracy: 0.4917\n"
     ]
    }
   ],
   "source": [
    "from keras.layers import BatchNormalization\n",
    "model = build_mlp(input_shape=x_train.shape[1:])\n",
    "model.summary()\n",
    "optimizer = keras.optimizers.SGD(lr=LEARNING_RATE, nesterov=True, momentum=MOMENTUM)\n",
    "model.compile(loss=\"categorical_crossentropy\", metrics=[\"accuracy\"], optimizer=optimizer)\n",
    "\n",
    "model.fit(x_train, y_train, \n",
    "          epochs=EPOCHS, \n",
    "          batch_size=BATCH_SIZE, \n",
    "          validation_data=(x_test, y_test), \n",
    "          shuffle=True)\n",
    "\n",
    "# Collect results\n",
    "train_loss = model.history.history[\"loss\"]\n",
    "valid_loss = model.history.history[\"val_loss\"]\n",
    "train_acc = model.history.history[\"accuracy\"]\n",
    "valid_acc = model.history.history[\"val_accuracy\"]"
   ]
  },
  {
   "cell_type": "code",
   "execution_count": 10,
   "metadata": {},
   "outputs": [
    {
     "data": {
      "image/png": "[encoded data removed]",
      "text/plain": [
       "<Figure size 432x288 with 1 Axes>"
      ]
     },
     "metadata": {
      "needs_background": "light"
     },
     "output_type": "display_data"
    },
    {
     "data": {
      "image/png": "[encoded data removed]",
      "text/plain": [
       "<Figure size 432x288 with 1 Axes>"
      ]
     },
     "metadata": {
      "needs_background": "light"
     },
     "output_type": "display_data"
    }
   ],
   "source": [
    "import matplotlib.pyplot as plt\n",
    "%matplotlib inline\n",
    "\n",
    "plt.plot(range(len(train_loss)), train_loss, label=\"train loss\")\n",
    "plt.plot(range(len(valid_loss)), valid_loss, label=\"valid loss\")\n",
    "plt.legend()\n",
    "plt.title(\"Loss\")\n",
    "plt.show()\n",
    "\n",
    "plt.plot(range(len(train_acc)), train_acc, label=\"train accuracy\")\n",
    "plt.plot(range(len(valid_acc)), valid_acc, label=\"valid accuracy\")\n",
    "plt.legend()\n",
    "plt.title(\"Accuracy\")\n",
    "plt.show()"
   ]
  },
  {
   "cell_type": "code",
   "execution_count": null,
   "metadata": {},
   "outputs": [],
   "source": []
  }
 ],
 "metadata": {
  "kernelspec": {
   "display_name": "Python 3",
   "language": "python",
   "name": "python3"
  },
  "language_info": {
   "codemirror_mode": {
    "name": "ipython",
    "version": 3
   },
   "file_extension": ".py",
   "mimetype": "text/x-python",
   "name": "python",
   "nbconvert_exporter": "python",
   "pygments_lexer": "ipython3",
   "version": "3.7.3"
  }
 },
 "nbformat": 4,
 "nbformat_minor": 2
}
