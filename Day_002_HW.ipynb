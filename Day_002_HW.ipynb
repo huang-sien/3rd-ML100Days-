{
 "cells": [
  {
   "cell_type": "markdown",
   "metadata": {},
   "source": [
    "## [作業目標]\n",
    "了解機器學習適合應用的領域與範疇。"
   ]
  },
  {
   "cell_type": "markdown",
   "metadata": {},
   "source": [
    "## [作業重點]\n",
    "透過瞭解機器學習的運作方式，找出非常適用機器學習應用的領域及其原因"
   ]
  },
  {
   "cell_type": "markdown",
   "metadata": {},
   "source": [
    "## 作業\n",
    "請找出一個你認為機器學習可以發光發熱的領域並闡述原因? "
   ]
  },
  {
   "cell_type": "code",
   "execution_count": null,
   "metadata": {},
   "outputs": [],
   "source": [
    "我認為可以運用在各式犯罪偵查，或危險預測:\n",
    "    以犯罪來說，透過影像辨識判斷車牌與駕駛，結合警察的犯罪資料，讓巡邏的員警不用記得各式罪犯，也能夠達到巡邏最大化\n",
    "    危險預測例如說，當車子能互相溝通，假如前方車子胎壓不穩隨時會有爆胎可能，可傳遞給周遭車輛，或者偵測駕駛的呼吸節奏，眼神疲勞等等，\n",
    "    提醒駕駛本身與周遭，車子也能自動降低速度，保持周圍空間"
   ]
  }
 ],
 "metadata": {
  "kernelspec": {
   "display_name": "Python 3",
   "language": "python",
   "name": "python3"
  },
  "language_info": {
   "codemirror_mode": {
    "name": "ipython",
    "version": 3
   },
   "file_extension": ".py",
   "mimetype": "text/x-python",
   "name": "python",
   "nbconvert_exporter": "python",
   "pygments_lexer": "ipython3",
   "version": "3.7.3"
  }
 },
 "nbformat": 4,
 "nbformat_minor": 2
}
