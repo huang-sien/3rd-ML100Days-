{
 "cells": [
  {
   "cell_type": "markdown",
   "metadata": {},
   "source": [
    "## [作業重點]\n",
    "目前你應該已經要很清楚資料集中，資料的型態是什麼樣子囉！包含特徵 (features) 與標籤 (labels)。因此要記得未來不管什麼專案，必須要把資料清理成相同的格式，才能送進模型訓練。\n",
    "今天的作業開始踏入決策樹這個非常重要的模型，請務必確保你理解模型中每個超參數的意思，並試著調整看看，對最終預測結果的影響為何"
   ]
  },
  {
   "cell_type": "markdown",
   "metadata": {},
   "source": [
    "## 作業\n",
    "\n",
    "1. 試著調整 DecisionTreeClassifier(...) 中的參數，並觀察是否會改變結果？\n",
    "2. 改用其他資料集 (boston, wine)，並與回歸模型的結果進行比較"
   ]
  },
  {
   "cell_type": "code",
   "execution_count": 70,
   "metadata": {},
   "outputs": [],
   "source": [
    "from sklearn import datasets, metrics\n",
    "import numpy as np\n",
    "# 如果是分類問題，請使用 DecisionTreeClassifier，若為回歸問題，請使用 DecisionTreeRegressor\n",
    "from sklearn.tree import DecisionTreeClassifier, DecisionTreeRegressor\n",
    "from sklearn.model_selection import train_test_split\n",
    "from sklearn.metrics import mean_squared_error, r2_score, accuracy_score"
   ]
  },
  {
   "cell_type": "code",
   "execution_count": 71,
   "metadata": {},
   "outputs": [],
   "source": [
    "bos = datasets.load_boston()\n",
    "win = datasets.load_wine()"
   ]
  },
  {
   "cell_type": "code",
   "execution_count": 72,
   "metadata": {},
   "outputs": [
    {
     "name": "stdout",
     "output_type": "stream",
     "text": [
      "<class 'numpy.ndarray'>\n",
      "<class 'numpy.ndarray'>\n",
      "<class 'numpy.ndarray'>\n",
      "<class 'numpy.ndarray'>\n"
     ]
    }
   ],
   "source": [
    "print(type(bos.data))\n",
    "print(type(bos.target))\n",
    "print(type(win.data))\n",
    "print(type(win.target))"
   ]
  },
  {
   "cell_type": "code",
   "execution_count": 73,
   "metadata": {},
   "outputs": [],
   "source": [
    "x_train1,x_test1,y_train1,y_test1 = train_test_split(bos.data,bos.target,test_size=0.25, random_state=4)\n",
    "x_train2,x_test2,y_train2,y_test2 = train_test_split(win.data,win.target,test_size=0.25, random_state=4)"
   ]
  },
  {
   "cell_type": "code",
   "execution_count": 80,
   "metadata": {},
   "outputs": [],
   "source": [
    "clf = DecisionTreeClassifier(criterion='gini',max_depth = None, min_samples_split=2,min_samples_leaf=1)"
   ]
  },
  {
   "cell_type": "code",
   "execution_count": 81,
   "metadata": {},
   "outputs": [
    {
     "name": "stdout",
     "output_type": "stream",
     "text": [
      "(379, 13) (379,)\n",
      "[13.4 13.1 12.7 50.  15.6 50.  29.4 42.8 21.7 11.8 24.8 19.4 17.5 13.4\n",
      " 13.9 24.5 15.  13.8 23.1 12.5 14.9 21.9 18.5 30.8 14.6 23.9 18.2 21.7\n",
      " 13.5 50.  23.1 48.8 13.8 20.1 50.  34.9  8.4 15.2 23.  24.7 25.3 17.2\n",
      " 50.  22.9 20.2 17.4 19.5 18.5 14.  22.6 14.1 15.6 46.  20.5 13.5 10.4\n",
      " 21.4 21.6 23.2 23.  17.6 16.1  5.   8.3 27.5 18.7 21.7 30.7  5.  11.3\n",
      "  7.  32.9 14.6 12.  28.1 18.   5.6 23.6 24.7 22.5 17.7 13.1 23.1 25.\n",
      " 14.9  9.7 22.8 22.  23.6 14.3 18.8 19.9 13.6 19.4 16.8 20.  43.1 27.9\n",
      " 20.1 19.  19.2 21.7 33.1 50.  33.2 20.1 21.1  8.8 12.3 14.5 23.8 18.7\n",
      " 21.8 21.9 21.7 17.1 23.1 36.1 28.2 11.5 19.  22.  10.5 21.4 16.5 20.6\n",
      " 23.3 23.5 15.  26.5 50.  10.5 17.5 13.6 17.2 19.1 16.4 20.6 20.9 30.1\n",
      " 20.7 22.2 24.6 25.2 37.9 20.1 29.6 18.7 23.  22.9 24.6 24.8 20.8 22.4\n",
      " 18.2 14.4 23.2 13.  19.7 21.2 21.7 24.  22.  20.6 11.9 24.3 23.8 22.8\n",
      " 13.3 25.  21.  20.4 33.1 48.3 14.5 36.  22.6 18.4 18.9 12.6 15.2 24.1\n",
      " 29.9 23.9 31.6 11.7 20.3 16.6 22.2 26.6 36.2 28.4 20.8 15.4 50.  18.1\n",
      " 23.1 21.5 13.1 21.8  8.5 15.6 26.2 32.2  9.6 31.6 17.8 34.7 20.  21.\n",
      " 22.7 28.7 23.9 35.4 13.2 18.3 13.1 23.1 20.6  7.  13.4 24.1 30.1 20.3\n",
      " 15.6 26.6 15.  37.2 27.1 24.4 17.8 19.8 10.2 23.1 37.3 23.2 19.1 19.6\n",
      " 38.7 25.  23.7 22.8 16.2 20.3 24.3 21.2 19.3 20.6 21.4 14.4 19.9 16.2\n",
      " 22.5 19.1 17.8 30.1 14.8 35.2 29.  25.1 21.5  8.3 22.  44.8 24.5 34.9\n",
      " 17.2 33.8 19.6 14.1  8.4 33.3 23.4 21.4 18.9 21.2  7.2 27.1 14.5 10.4\n",
      " 21.4 14.1 10.2 24.3 18.6 18.9 10.9 24.4 19.3 25.  36.5 20.5 20.4 19.6\n",
      " 27.9 21.1 26.6 10.8 36.2 34.9 31.5 31.7 34.6 17.8 29.8 35.1 17.1 13.4\n",
      " 37.  15.2 27.5 18.5 19.6 23.2 32.  23.4 28.7 22.  13.8 19.7 20.9 17.1\n",
      " 28.4 43.8 22.5 50.  50.  33.4 17.9 25.  22.3 50.   9.5 10.2 23.7 23.8\n",
      "  7.5 23.9 18.4 20.4 19.4 17.4 12.7 13.8 22.  29.1 24.7 20.8 24.1 15.4\n",
      " 19.6 32.5 24.   7.4 25.  15.7 21.7 21.2 11.7 22.7 16.8 21.6 23.9 22.1\n",
      " 20.6 19.4 22.6 29.6 23.3 13.8 33.4 12.7 22.2 25.   7.2 30.3 12.8 22.6\n",
      " 20.5]\n"
     ]
    }
   ],
   "source": [
    "print(x_train1.shape,y_train1.shape)\n",
    "print(y_train1)"
   ]
  },
  {
   "cell_type": "code",
   "execution_count": 82,
   "metadata": {},
   "outputs": [
    {
     "data": {
      "text/plain": [
       "DecisionTreeClassifier(class_weight=None, criterion='gini', max_depth=None,\n",
       "                       max_features=None, max_leaf_nodes=None,\n",
       "                       min_impurity_decrease=0.0, min_impurity_split=None,\n",
       "                       min_samples_leaf=1, min_samples_split=2,\n",
       "                       min_weight_fraction_leaf=0.0, presort=False,\n",
       "                       random_state=None, splitter='best')"
      ]
     },
     "execution_count": 82,
     "metadata": {},
     "output_type": "execute_result"
    }
   ],
   "source": [
    "y_train1 = np.array(y_train1, dtype=int)\n",
    "clf.fit(x_train1,y_train1)"
   ]
  },
  {
   "cell_type": "code",
   "execution_count": 83,
   "metadata": {},
   "outputs": [
    {
     "data": {
      "text/plain": [
       "array([14, 22, 21, 21, 48, 24, 34, 14, 10, 14, 22, 22, 21, 24, 20, 12, 21,\n",
       "       13,  5, 15, 17, 15, 13, 20, 17, 19, 21, 13, 23, 15, 13, 23, 33, 23,\n",
       "       14, 13, 23, 44, 24, 24, 50, 21, 14, 24, 22, 18, 50, 19, 19, 20, 27,\n",
       "       23, 13, 26, 13, 25, 22, 33, 21, 33, 16, 21, 29, 20, 50, 24, 25, 17,\n",
       "       15, 20, 20, 21, 22, 22, 15, 32, 18, 22, 17, 18, 25, 13, 27, 19, 25,\n",
       "       20, 34, 19, 21, 46, 29, 50, 19, 50, 20, 21, 20, 24, 14, 19, 17, 21,\n",
       "       37, 16, 24, 19, 34, 35, 50, 20, 20, 22, 15, 29, 33, 23, 50, 14, 15,\n",
       "       16, 21, 13, 23, 23, 23, 17, 50])"
      ]
     },
     "execution_count": 83,
     "metadata": {},
     "output_type": "execute_result"
    }
   ],
   "source": [
    "y_pred = clf.predict(x_test1)\n",
    "y_pred"
   ]
  },
  {
   "cell_type": "code",
   "execution_count": 84,
   "metadata": {},
   "outputs": [
    {
     "data": {
      "text/plain": [
       "array([16, 24, 17, 19, 37, 24, 35, 19, 27, 17, 31, 24, 16, 27, 21, 14, 18,\n",
       "        6, 16, 13,  8, 19, 18, 19, 17, 19, 20, 14, 16, 19, 11, 21, 31, 22,\n",
       "       15, 13, 28, 46, 22, 22, 42, 41, 16, 31, 26, 19, 50, 16, 19, 24, 28,\n",
       "       22, 12, 28, 15, 19, 27, 32, 20, 32, 18, 19, 29, 20, 43, 24, 50,  7,\n",
       "       19, 21, 22, 22, 25, 23, 17, 33, 17, 23, 10, 18, 19, 16, 28, 18, 29,\n",
       "       11, 32, 18, 22, 45, 31, 48, 19, 41, 22, 20, 20, 50, 11, 19,  8, 23,\n",
       "       36, 13, 24, 20, 44, 29, 39, 22, 23, 15, 23, 30, 33, 26, 50, 14,  8,\n",
       "       16, 20,  8, 23, 26, 18, 20, 50])"
      ]
     },
     "execution_count": 84,
     "metadata": {},
     "output_type": "execute_result"
    }
   ],
   "source": [
    "y_test1 = np.array(y_test1, dtype=int)\n",
    "y_test1"
   ]
  },
  {
   "cell_type": "code",
   "execution_count": 85,
   "metadata": {},
   "outputs": [
    {
     "name": "stdout",
     "output_type": "stream",
     "text": [
      "Acuuracy:  0.15748031496062992\n",
      "Feature importance:  [0.11916907 0.03781154 0.04155758 0.0079528  0.04920564 0.09488133\n",
      " 0.15920576 0.0637042  0.03329328 0.04434334 0.06138057 0.11495597\n",
      " 0.1725389 ]\n"
     ]
    }
   ],
   "source": [
    "acc = metrics.accuracy_score(y_test1, y_pred)\n",
    "print(\"Acuuracy: \", acc)\n",
    "print(\"Feature importance: \", clf.feature_importances_)"
   ]
  },
  {
   "cell_type": "code",
   "execution_count": 64,
   "metadata": {},
   "outputs": [],
   "source": [
    "dtr = DecisionTreeRegressor()"
   ]
  },
  {
   "cell_type": "code",
   "execution_count": 65,
   "metadata": {},
   "outputs": [],
   "source": [
    "x_train1,x_test1,y_train1,y_test1 = train_test_split(bos.data,bos.target,test_size=0.25, random_state=4)"
   ]
  },
  {
   "cell_type": "code",
   "execution_count": 66,
   "metadata": {},
   "outputs": [
    {
     "data": {
      "text/plain": [
       "array([14. , 22. , 20.9, 22.5, 44.8, 23.3, 33.4, 23.2, 17.2, 15.4, 23.9,\n",
       "       16.5, 22.7, 23.3, 23.2, 13.8, 16.2, 12.8, 10.4, 14.8, 10.4, 15.4,\n",
       "       20.5, 20.4, 19.7, 20.1, 13.4, 15.2, 23. , 21.5,  9.5, 22.6, 33.8,\n",
       "       29.6, 13.1,  9.5, 33.2, 46. , 24.6, 23.3, 46. , 24.8, 12.7, 29.4,\n",
       "       25.1, 20.9, 50. , 19.4, 22.7, 22.2, 30.8, 23.8, 11.3, 27.1, 19.1,\n",
       "       19.3, 22. , 33.1, 14.5, 33.1, 16.2, 21.5, 35.1, 19.3, 43.1, 29.4,\n",
       "       21. ,  8.3, 23.2, 23. , 22. , 16.2, 25.1, 29.9, 20.5, 33.4, 14.5,\n",
       "       21. , 17.7, 20.1, 23.4, 15.6, 26.2, 19.9, 24.7, 20.6, 33.2, 24.5,\n",
       "       22.5, 48.8, 29.1, 50. , 19.4, 44.8, 24.4, 19.4, 21. , 27.5, 14.6,\n",
       "       19. ,  8.3, 19.4, 34.9, 14.5, 23.3, 19.9, 36.5, 30.3, 50. , 21.6,\n",
       "       20.4, 19.6, 14.8, 35.4, 50. , 20.3, 50. , 13.8,  7. , 19.6, 21.2,\n",
       "       12.5, 23.7, 21.4, 16.2, 24.4, 50. ])"
      ]
     },
     "execution_count": 66,
     "metadata": {},
     "output_type": "execute_result"
    }
   ],
   "source": [
    "dtr.fit(x_train1,y_train1)\n",
    "y_pred = dtr.predict(x_test1)\n",
    "y_pred"
   ]
  },
  {
   "cell_type": "code",
   "execution_count": 67,
   "metadata": {},
   "outputs": [
    {
     "data": {
      "text/plain": [
       "array([16.5, 24.8, 17.4, 19.3, 37.6, 24.2, 35.4, 19.9, 27.5, 17. , 31.2,\n",
       "       24.4, 16.1, 27. , 21. , 14.9, 18.9,  6.3, 16.3, 13.9,  8.8, 19.4,\n",
       "       18.8, 19.8, 17.5, 19.3, 20. , 14.3, 16.1, 19.5, 11. , 21.9, 31. ,\n",
       "       22. , 15.1, 13.3, 28.7, 46.7, 22.2, 22.8, 42.3, 41.3, 16.7, 31.1,\n",
       "       26.7, 19.4, 50. , 16.6, 19.5, 24.4, 28.5, 22.3, 12.1, 28.6, 15.6,\n",
       "       19.2, 27.5, 32. , 20.2, 32.4, 18.4, 19.9, 29.8, 20.1, 43.5, 24.5,\n",
       "       50. ,  7.2, 19.1, 21.2, 22.6, 22.9, 25. , 23.3, 17.3, 33. , 17.8,\n",
       "       23.8, 10.9, 18.6, 19.3, 16.7, 28. , 18.2, 29.1, 11.9, 32.7, 18.3,\n",
       "       22.4, 45.4, 31.5, 48.5, 19.8, 41.7, 22.2, 20.3, 20.7, 50. , 11.8,\n",
       "       19.5,  8.7, 23.3, 36.4, 13.3, 24.8, 20.4, 44. , 29. , 39.8, 22.9,\n",
       "       23. , 15.3, 23.7, 30.5, 33.2, 26.4, 50. , 14.2,  8.1, 16. , 20. ,\n",
       "        8.5, 23.7, 26.4, 18.5, 20. , 50. ])"
      ]
     },
     "execution_count": 67,
     "metadata": {},
     "output_type": "execute_result"
    }
   ],
   "source": [
    "y_test1"
   ]
  },
  {
   "cell_type": "code",
   "execution_count": 68,
   "metadata": {},
   "outputs": [
    {
     "name": "stdout",
     "output_type": "stream",
     "text": [
      "Mean squared error: 28.70\n"
     ]
    }
   ],
   "source": [
    "print(\"Mean squared error: %.2f\"\n",
    "      % mean_squared_error(y_test1, y_pred))"
   ]
  },
  {
   "cell_type": "code",
   "execution_count": null,
   "metadata": {},
   "outputs": [],
   "source": []
  }
 ],
 "metadata": {
  "kernelspec": {
   "display_name": "Python 3",
   "language": "python",
   "name": "python3"
  },
  "language_info": {
   "codemirror_mode": {
    "name": "ipython",
    "version": 3
   },
   "file_extension": ".py",
   "mimetype": "text/x-python",
   "name": "python",
   "nbconvert_exporter": "python",
   "pygments_lexer": "ipython3",
   "version": "3.7.3"
  }
 },
 "nbformat": 4,
 "nbformat_minor": 2
}
