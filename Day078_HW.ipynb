{
 "cells": [
  {
   "cell_type": "markdown",
   "metadata": {},
   "source": [
    "## Work\n",
    "1. 請嘗試將 preproc_x 替換成以每筆資料的 min/max 進行標準化至 -1 ~ 1 間，再進行訓練\n",
    "2. 請嘗試將 mlp 疊更深 (e.g 5~10 層)，進行訓練後觀察 learning curve 的走勢\n",
    "3. (optional) 請改用 GPU 進行訓練 (如果你有 GPU 的話)，比較使用 CPU 與 GPU 的訓練速度"
   ]
  },
  {
   "cell_type": "code",
   "execution_count": 1,
   "metadata": {},
   "outputs": [],
   "source": [
    "## \n",
    "\"\"\"\n",
    "Your code here (optional)\n",
    "確認硬體資源\n",
    "\"\"\"\n"
   ]
  },
  {
   "cell_type": "code",
   "execution_count": 18,
   "metadata": {},
   "outputs": [],
   "source": [
    "import os\n",
    "import keras\n",
    "\n",
    "# 請嘗試設定 GPU：os.environ\n"
   ]
  },
  {
   "cell_type": "code",
   "execution_count": 64,
   "metadata": {},
   "outputs": [],
   "source": [
    "train, test = keras.datasets.cifar10.load_data()"
   ]
  },
  {
   "cell_type": "code",
   "execution_count": 65,
   "metadata": {},
   "outputs": [],
   "source": [
    "## 資料前處理\n",
    "\"\"\"\n",
    "Your code here\n",
    "\"\"\"\n",
    "def preproc_x(x, flatten=True):\n",
    "    x = 2 * ((x-x.min()) / (x.max()-x.min())) - 1\n",
    "    if flatten:\n",
    "        x = x.reshape((len(x), -1))\n",
    "    return x\n",
    "\n",
    "def preproc_y(y, num_classes=10):\n",
    "    if y.shape[-1] == 1:\n",
    "        y = keras.utils.to_categorical(y, num_classes)\n",
    "    return y    "
   ]
  },
  {
   "cell_type": "code",
   "execution_count": 66,
   "metadata": {},
   "outputs": [],
   "source": [
    "x_train, y_train = train\n",
    "x_test, y_test = test\n",
    "\n",
    "# Preproc the inputs\n",
    "x_train = preproc_x(x_train)\n",
    "x_test = preproc_x(x_test)\n",
    "\n",
    "# Preprc the outputs\n",
    "y_train = preproc_y(y_train)\n",
    "y_test = preproc_y(y_test)"
   ]
  },
  {
   "cell_type": "code",
   "execution_count": 67,
   "metadata": {},
   "outputs": [
    {
     "name": "stdout",
     "output_type": "stream",
     "text": [
      "Model: \"model_8\"\n",
      "_________________________________________________________________\n",
      "Layer (type)                 Output Shape              Param #   \n",
      "=================================================================\n",
      "input_8 (InputLayer)         (None, 3072)              0         \n",
      "_________________________________________________________________\n",
      "hidden_layer1 (Dense)        (None, 512)               1573376   \n",
      "_________________________________________________________________\n",
      "hidden_layer2 (Dense)        (None, 256)               131328    \n",
      "_________________________________________________________________\n",
      "hidden_layer3 (Dense)        (None, 128)               32896     \n",
      "_________________________________________________________________\n",
      "hidden_layer4 (Dense)        (None, 64)                8256      \n",
      "_________________________________________________________________\n",
      "hidden_layer5 (Dense)        (None, 32)                2080      \n",
      "_________________________________________________________________\n",
      "output (Dense)               (None, 10)                330       \n",
      "=================================================================\n",
      "Total params: 1,748,266\n",
      "Trainable params: 1,748,266\n",
      "Non-trainable params: 0\n",
      "_________________________________________________________________\n"
     ]
    }
   ],
   "source": [
    "\"\"\"Code Here\n",
    "建立你的神經網路\n",
    "\"\"\"\n",
    "def build_mlp(input_shape, output_units=10, num_neurons=[512, 256, 128, 64, 32]):\n",
    "    input_layer = keras.layers.Input(input_shape)\n",
    "    \n",
    "    for i, n_units in enumerate(num_neurons):\n",
    "        if i == 0:\n",
    "            x = keras.layers.Dense(units=n_units, activation=\"relu\", name=\"hidden_layer\"+str(i+1))(input_layer)\n",
    "        else:\n",
    "            x = keras.layers.Dense(units=n_units, activation=\"relu\", name=\"hidden_layer\"+str(i+1))(x)\n",
    "    \n",
    "    out = keras.layers.Dense(units=output_units, activation=\"softmax\", name=\"output\")(x)\n",
    "    \n",
    "    model = keras.models.Model(inputs=[input_layer], outputs=[out])\n",
    "    return model\n",
    "model = build_mlp(input_shape=x_train.shape[1:])\n",
    "model.summary()"
   ]
  },
  {
   "cell_type": "code",
   "execution_count": 68,
   "metadata": {},
   "outputs": [],
   "source": [
    "## 超參數設定\n",
    "LEARNING_RATE = 0.001\n",
    "EPOCHS = 60\n",
    "BATCH_SIZE = 256"
   ]
  },
  {
   "cell_type": "code",
   "execution_count": 69,
   "metadata": {},
   "outputs": [],
   "source": [
    "optimizer = keras.optimizers.Adam(lr=LEARNING_RATE)\n",
    "model.compile(loss=\"categorical_crossentropy\", metrics=[\"accuracy\"], optimizer=optimizer)"
   ]
  },
  {
   "cell_type": "code",
   "execution_count": 70,
   "metadata": {},
   "outputs": [
    {
     "name": "stdout",
     "output_type": "stream",
     "text": [
      "Train on 50000 samples, validate on 10000 samples\n",
      "Epoch 1/60\n",
      "50000/50000 [==============================] - 17s 330us/step - loss: 1.7763 - accuracy: 0.3709 - val_loss: 1.5948 - val_accuracy: 0.4366\n",
      "Epoch 2/60\n",
      "50000/50000 [==============================] - 14s 276us/step - loss: 1.5223 - accuracy: 0.4630 - val_loss: 1.4971 - val_accuracy: 0.4715\n",
      "Epoch 3/60\n",
      "50000/50000 [==============================] - 14s 275us/step - loss: 1.3903 - accuracy: 0.5124 - val_loss: 1.4043 - val_accuracy: 0.5101\n",
      "Epoch 4/60\n",
      "50000/50000 [==============================] - 14s 277us/step - loss: 1.2928 - accuracy: 0.5434 - val_loss: 1.4200 - val_accuracy: 0.5091\n",
      "Epoch 5/60\n",
      "50000/50000 [==============================] - 14s 275us/step - loss: 1.2007 - accuracy: 0.5778 - val_loss: 1.3954 - val_accuracy: 0.5115\n",
      "Epoch 6/60\n",
      "50000/50000 [==============================] - 14s 277us/step - loss: 1.1212 - accuracy: 0.6053 - val_loss: 1.3894 - val_accuracy: 0.5246\n",
      "Epoch 7/60\n",
      "50000/50000 [==============================] - 14s 284us/step - loss: 1.0480 - accuracy: 0.6323 - val_loss: 1.3924 - val_accuracy: 0.5256\n",
      "Epoch 8/60\n",
      "50000/50000 [==============================] - 14s 279us/step - loss: 0.9745 - accuracy: 0.6566 - val_loss: 1.4021 - val_accuracy: 0.5294\n",
      "Epoch 9/60\n",
      "50000/50000 [==============================] - 14s 287us/step - loss: 0.9059 - accuracy: 0.6806 - val_loss: 1.4042 - val_accuracy: 0.5385\n",
      "Epoch 10/60\n",
      "50000/50000 [==============================] - 14s 279us/step - loss: 0.8346 - accuracy: 0.7039 - val_loss: 1.4650 - val_accuracy: 0.5201\n",
      "Epoch 11/60\n",
      "50000/50000 [==============================] - 14s 281us/step - loss: 0.7741 - accuracy: 0.7247 - val_loss: 1.5047 - val_accuracy: 0.5335\n",
      "Epoch 12/60\n",
      "50000/50000 [==============================] - 14s 281us/step - loss: 0.7200 - accuracy: 0.7440 - val_loss: 1.5519 - val_accuracy: 0.5383\n",
      "Epoch 13/60\n",
      "50000/50000 [==============================] - 14s 276us/step - loss: 0.6484 - accuracy: 0.7706 - val_loss: 1.6301 - val_accuracy: 0.5407\n",
      "Epoch 14/60\n",
      "50000/50000 [==============================] - 14s 279us/step - loss: 0.5976 - accuracy: 0.7887 - val_loss: 1.6622 - val_accuracy: 0.5288\n",
      "Epoch 15/60\n",
      "50000/50000 [==============================] - 14s 277us/step - loss: 0.5459 - accuracy: 0.8090 - val_loss: 1.7602 - val_accuracy: 0.5349\n",
      "Epoch 16/60\n",
      "50000/50000 [==============================] - 14s 279us/step - loss: 0.5117 - accuracy: 0.8204 - val_loss: 1.8331 - val_accuracy: 0.5324\n",
      "Epoch 17/60\n",
      "50000/50000 [==============================] - 14s 284us/step - loss: 0.4601 - accuracy: 0.8382 - val_loss: 1.9220 - val_accuracy: 0.5295\n",
      "Epoch 18/60\n",
      "50000/50000 [==============================] - 15s 291us/step - loss: 0.4200 - accuracy: 0.8517 - val_loss: 2.0316 - val_accuracy: 0.5216\n",
      "Epoch 19/60\n",
      "50000/50000 [==============================] - 14s 288us/step - loss: 0.3900 - accuracy: 0.8616 - val_loss: 2.0999 - val_accuracy: 0.5271\n",
      "Epoch 20/60\n",
      "50000/50000 [==============================] - 15s 302us/step - loss: 0.3674 - accuracy: 0.8717 - val_loss: 2.2672 - val_accuracy: 0.5215\n",
      "Epoch 21/60\n",
      "50000/50000 [==============================] - 15s 294us/step - loss: 0.3348 - accuracy: 0.8816 - val_loss: 2.3338 - val_accuracy: 0.5260\n",
      "Epoch 22/60\n",
      "50000/50000 [==============================] - 14s 285us/step - loss: 0.3076 - accuracy: 0.8924 - val_loss: 2.3539 - val_accuracy: 0.5318\n",
      "Epoch 23/60\n",
      "50000/50000 [==============================] - 14s 281us/step - loss: 0.2862 - accuracy: 0.8986 - val_loss: 2.5082 - val_accuracy: 0.5292\n",
      "Epoch 24/60\n",
      "50000/50000 [==============================] - 14s 280us/step - loss: 0.2640 - accuracy: 0.9082 - val_loss: 2.5877 - val_accuracy: 0.5375\n",
      "Epoch 25/60\n",
      "50000/50000 [==============================] - 14s 281us/step - loss: 0.2575 - accuracy: 0.9112 - val_loss: 2.6705 - val_accuracy: 0.5246\n",
      "Epoch 26/60\n",
      "50000/50000 [==============================] - 14s 287us/step - loss: 0.2563 - accuracy: 0.9107 - val_loss: 2.8261 - val_accuracy: 0.5165\n",
      "Epoch 27/60\n",
      "50000/50000 [==============================] - 14s 282us/step - loss: 0.2289 - accuracy: 0.9215 - val_loss: 2.7823 - val_accuracy: 0.5301\n",
      "Epoch 28/60\n",
      "50000/50000 [==============================] - 14s 281us/step - loss: 0.2249 - accuracy: 0.9215 - val_loss: 2.8099 - val_accuracy: 0.5309\n",
      "Epoch 29/60\n",
      "50000/50000 [==============================] - 14s 282us/step - loss: 0.2052 - accuracy: 0.9287 - val_loss: 2.8341 - val_accuracy: 0.5261\n",
      "Epoch 30/60\n",
      "50000/50000 [==============================] - 14s 283us/step - loss: 0.1942 - accuracy: 0.9326 - val_loss: 2.9859 - val_accuracy: 0.5261\n",
      "Epoch 31/60\n",
      "50000/50000 [==============================] - 14s 282us/step - loss: 0.1752 - accuracy: 0.9390 - val_loss: 3.1449 - val_accuracy: 0.5409\n",
      "Epoch 32/60\n",
      "50000/50000 [==============================] - 14s 281us/step - loss: 0.2099 - accuracy: 0.9271 - val_loss: 3.0285 - val_accuracy: 0.5267\n",
      "Epoch 33/60\n",
      "50000/50000 [==============================] - 14s 280us/step - loss: 0.1728 - accuracy: 0.9401 - val_loss: 3.2028 - val_accuracy: 0.5295\n",
      "Epoch 34/60\n",
      "50000/50000 [==============================] - 14s 287us/step - loss: 0.1518 - accuracy: 0.9473 - val_loss: 3.3626 - val_accuracy: 0.5288\n",
      "Epoch 35/60\n",
      "50000/50000 [==============================] - 14s 283us/step - loss: 0.1856 - accuracy: 0.9375 - val_loss: 3.0764 - val_accuracy: 0.5299\n",
      "Epoch 36/60\n",
      "50000/50000 [==============================] - 15s 309us/step - loss: 0.1723 - accuracy: 0.9408 - val_loss: 3.1984 - val_accuracy: 0.5246\n",
      "Epoch 37/60\n",
      "50000/50000 [==============================] - 14s 285us/step - loss: 0.1446 - accuracy: 0.9508 - val_loss: 3.4381 - val_accuracy: 0.5209\n",
      "Epoch 38/60\n",
      "50000/50000 [==============================] - 14s 285us/step - loss: 0.1684 - accuracy: 0.9423 - val_loss: 3.3824 - val_accuracy: 0.5325\n",
      "Epoch 39/60\n",
      "50000/50000 [==============================] - 14s 288us/step - loss: 0.1455 - accuracy: 0.9500 - val_loss: 3.5388 - val_accuracy: 0.5285\n",
      "Epoch 40/60\n",
      "50000/50000 [==============================] - 14s 286us/step - loss: 0.1426 - accuracy: 0.9515 - val_loss: 3.5406 - val_accuracy: 0.5231\n",
      "Epoch 41/60\n",
      "50000/50000 [==============================] - 15s 300us/step - loss: 0.1505 - accuracy: 0.9497 - val_loss: 3.4527 - val_accuracy: 0.5334\n",
      "Epoch 42/60\n",
      "50000/50000 [==============================] - 14s 287us/step - loss: 0.1291 - accuracy: 0.9564 - val_loss: 3.5832 - val_accuracy: 0.5253\n",
      "Epoch 43/60\n",
      "50000/50000 [==============================] - 15s 295us/step - loss: 0.1139 - accuracy: 0.9616 - val_loss: 3.6134 - val_accuracy: 0.5287\n",
      "Epoch 44/60\n",
      "50000/50000 [==============================] - 16s 317us/step - loss: 0.1278 - accuracy: 0.9569 - val_loss: 3.6829 - val_accuracy: 0.5325\n",
      "Epoch 45/60\n",
      "50000/50000 [==============================] - 17s 348us/step - loss: 0.1496 - accuracy: 0.9510 - val_loss: 3.6715 - val_accuracy: 0.5257\n",
      "Epoch 46/60\n",
      "50000/50000 [==============================] - 16s 330us/step - loss: 0.1392 - accuracy: 0.9533 - val_loss: 3.7105 - val_accuracy: 0.5245\n",
      "Epoch 47/60\n",
      "50000/50000 [==============================] - 15s 305us/step - loss: 0.1330 - accuracy: 0.9557 - val_loss: 3.6372 - val_accuracy: 0.5235\n",
      "Epoch 48/60\n",
      "50000/50000 [==============================] - 12s 237us/step - loss: 0.1205 - accuracy: 0.9601 - val_loss: 3.6793 - val_accuracy: 0.5266\n",
      "Epoch 49/60\n",
      "50000/50000 [==============================] - 12s 242us/step - loss: 0.1059 - accuracy: 0.9646 - val_loss: 3.8807 - val_accuracy: 0.5308\n",
      "Epoch 50/60\n",
      "50000/50000 [==============================] - 12s 241us/step - loss: 0.0920 - accuracy: 0.9696 - val_loss: 3.9969 - val_accuracy: 0.5294\n",
      "Epoch 51/60\n",
      "50000/50000 [==============================] - 12s 241us/step - loss: 0.1171 - accuracy: 0.9603 - val_loss: 3.7701 - val_accuracy: 0.5276\n",
      "Epoch 52/60\n",
      "50000/50000 [==============================] - 12s 236us/step - loss: 0.1307 - accuracy: 0.9564 - val_loss: 3.8057 - val_accuracy: 0.5227\n",
      "Epoch 53/60\n",
      "50000/50000 [==============================] - 12s 241us/step - loss: 0.1164 - accuracy: 0.9620 - val_loss: 3.7669 - val_accuracy: 0.5336\n",
      "Epoch 54/60\n",
      "50000/50000 [==============================] - 12s 244us/step - loss: 0.0962 - accuracy: 0.9677 - val_loss: 3.7732 - val_accuracy: 0.5362\n",
      "Epoch 55/60\n"
     ]
    },
    {
     "name": "stdout",
     "output_type": "stream",
     "text": [
      "50000/50000 [==============================] - 12s 235us/step - loss: 0.1049 - accuracy: 0.9651 - val_loss: 4.0456 - val_accuracy: 0.5278\n",
      "Epoch 56/60\n",
      "50000/50000 [==============================] - 14s 284us/step - loss: 0.1104 - accuracy: 0.9626 - val_loss: 3.8788 - val_accuracy: 0.5274\n",
      "Epoch 57/60\n",
      "50000/50000 [==============================] - 14s 275us/step - loss: 0.1159 - accuracy: 0.9614 - val_loss: 3.8940 - val_accuracy: 0.5179\n",
      "Epoch 58/60\n",
      "50000/50000 [==============================] - 14s 280us/step - loss: 0.1017 - accuracy: 0.9654 - val_loss: 3.9503 - val_accuracy: 0.5214\n",
      "Epoch 59/60\n",
      "50000/50000 [==============================] - 14s 283us/step - loss: 0.0835 - accuracy: 0.9722 - val_loss: 4.0658 - val_accuracy: 0.5342\n",
      "Epoch 60/60\n",
      "50000/50000 [==============================] - 14s 289us/step - loss: 0.0878 - accuracy: 0.9702 - val_loss: 4.0886 - val_accuracy: 0.5233\n"
     ]
    },
    {
     "data": {
      "text/plain": [
       "<keras.callbacks.callbacks.History at 0x17382647198>"
      ]
     },
     "execution_count": 70,
     "metadata": {},
     "output_type": "execute_result"
    }
   ],
   "source": [
    "model.fit(x_train, y_train, \n",
    "          epochs=EPOCHS, \n",
    "          batch_size=BATCH_SIZE, \n",
    "          validation_data=(x_test, y_test), \n",
    "          shuffle=True)"
   ]
  },
  {
   "cell_type": "code",
   "execution_count": 72,
   "metadata": {},
   "outputs": [
    {
     "data": {
      "image/png": "[encoded data removed]",
      "text/plain": [
       "<Figure size 432x288 with 1 Axes>"
      ]
     },
     "metadata": {
      "needs_background": "light"
     },
     "output_type": "display_data"
    },
    {
     "data": {
      "image/png": "[encoded data removed]",
      "text/plain": [
       "<Figure size 432x288 with 1 Axes>"
      ]
     },
     "metadata": {
      "needs_background": "light"
     },
     "output_type": "display_data"
    }
   ],
   "source": [
    "import matplotlib.pyplot as plt\n",
    "\n",
    "\n",
    "train_loss = model.history.history[\"loss\"]\n",
    "valid_loss = model.history.history[\"val_loss\"]\n",
    "\n",
    "train_acc = model.history.history[\"accuracy\"]\n",
    "valid_acc = model.history.history[\"val_accuracy\"]\n",
    "\n",
    "plt.plot(range(len(train_loss)), train_loss, label=\"train loss\")\n",
    "plt.plot(range(len(valid_loss)), valid_loss, label=\"valid loss\")\n",
    "plt.legend()\n",
    "plt.title(\"Loss\")\n",
    "plt.show()\n",
    "\n",
    "plt.plot(range(len(train_acc)), train_acc, label=\"train accuracy\")\n",
    "plt.plot(range(len(valid_acc)), valid_acc, label=\"valid accuracy\")\n",
    "plt.legend()\n",
    "plt.title(\"Accuracy\")\n",
    "plt.show()"
   ]
  },
  {
   "cell_type": "code",
   "execution_count": null,
   "metadata": {},
   "outputs": [],
   "source": []
  }
 ],
 "metadata": {
  "kernelspec": {
   "display_name": "Python 3",
   "language": "python",
   "name": "python3"
  },
  "language_info": {
   "codemirror_mode": {
    "name": "ipython",
    "version": 3
   },
   "file_extension": ".py",
   "mimetype": "text/x-python",
   "name": "python",
   "nbconvert_exporter": "python",
   "pygments_lexer": "ipython3",
   "version": "3.7.3"
  }
 },
 "nbformat": 4,
 "nbformat_minor": 2
}
