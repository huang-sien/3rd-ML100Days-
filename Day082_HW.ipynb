{
 "cells": [
  {
   "cell_type": "markdown",
   "metadata": {},
   "source": [
    "## Work\n",
    "1. 請比較使用不同層數以及不同 Dropout rate 對訓練的效果\n",
    "2. 將 optimizer 改成使用 Adam 並加上適當的 dropout rate 檢視結果"
   ]
  },
  {
   "cell_type": "code",
   "execution_count": 1,
   "metadata": {},
   "outputs": [
    {
     "name": "stderr",
     "output_type": "stream",
     "text": [
      "Using TensorFlow backend.\n"
     ]
    }
   ],
   "source": [
    "import os\n",
    "import keras\n",
    "import itertools\n",
    "# Disable GPU\n",
    "os.environ[\"CUDA_VISIBLE_DEVICES\"] = \"\""
   ]
  },
  {
   "cell_type": "code",
   "execution_count": 2,
   "metadata": {},
   "outputs": [],
   "source": [
    "train, test = keras.datasets.cifar10.load_data()"
   ]
  },
  {
   "cell_type": "code",
   "execution_count": 13,
   "metadata": {},
   "outputs": [],
   "source": [
    "## 資料前處理\n",
    "def preproc_x(x, flatten=True):\n",
    "    x = x / 255.\n",
    "    if flatten:\n",
    "        x = x.reshape((len(x), -1))\n",
    "    return x\n",
    "\n",
    "def preproc_y(y, num_classes=10):\n",
    "    if y.shape[-1] == 1:\n",
    "        y = keras.utils.to_categorical(y, num_classes)\n",
    "    return y    "
   ]
  },
  {
   "cell_type": "code",
   "execution_count": 14,
   "metadata": {},
   "outputs": [],
   "source": [
    "x_train, y_train = train\n",
    "x_test, y_test = test\n",
    "\n",
    "# Preproc the inputs\n",
    "x_train = preproc_x(x_train)\n",
    "x_test = preproc_x(x_test)\n",
    "\n",
    "# Preprc the outputs\n",
    "y_train = preproc_y(y_train)\n",
    "y_test = preproc_y(y_test)"
   ]
  },
  {
   "cell_type": "code",
   "execution_count": 15,
   "metadata": {},
   "outputs": [],
   "source": [
    "from keras.layers import Dropout\n",
    "\n",
    "\"\"\"\n",
    "建立神經網路，並加入 dropout layer\n",
    "\"\"\"\n",
    "def build_mlp(input_shape, output_units=10, num_neurons=[512, 256, 128], drp_ratio=0.15):\n",
    "    input_layer = keras.layers.Input(input_shape)\n",
    "    \n",
    "    for i, n_units in enumerate(num_neurons):\n",
    "        if i == 0:\n",
    "            x = keras.layers.Dense(units=n_units, \n",
    "                                   activation=\"relu\", \n",
    "                                   name=\"hidden_layer\"+str(i+1))(input_layer)\n",
    "            x = Dropout(drp_ratio)(x)\n",
    "        else:\n",
    "            x = keras.layers.Dense(units=n_units, \n",
    "                                   activation=\"relu\", \n",
    "                                   name=\"hidden_layer\"+str(i+1))(x)\n",
    "            x = Dropout(drp_ratio)(x)\n",
    "    \n",
    "    out = keras.layers.Dense(units=output_units, activation=\"softmax\", name=\"output\")(x)\n",
    "    \n",
    "    model = keras.models.Model(inputs=[input_layer], outputs=[out])\n",
    "    return model"
   ]
  },
  {
   "cell_type": "code",
   "execution_count": 16,
   "metadata": {},
   "outputs": [],
   "source": [
    "from keras.layers import Dropout\n",
    "\n",
    "\"\"\"\n",
    "建立神經網路，並加入 dropout layer\n",
    "\"\"\"\n",
    "def build_mlp(input_shape, output_units=10, num_neurons=[512, 256, 128], drp_ratio=0.2):\n",
    "    input_layer = keras.layers.Input(input_shape)\n",
    "    \n",
    "    for i, n_units in enumerate(num_neurons):\n",
    "        if i == 0:\n",
    "            x = keras.layers.Dense(units=n_units, \n",
    "                                   activation=\"relu\", \n",
    "                                   name=\"hidden_layer\"+str(i+1))(input_layer)\n",
    "            x = Dropout(drp_ratio)(x)\n",
    "        else:\n",
    "            x = keras.layers.Dense(units=n_units, \n",
    "                                   activation=\"relu\", \n",
    "                                   name=\"hidden_layer\"+str(i+1))(x)\n",
    "            x = Dropout(drp_ratio)(x)\n",
    "    \n",
    "    out = keras.layers.Dense(units=output_units, activation=\"softmax\", name=\"output\")(x)\n",
    "    \n",
    "    model = keras.models.Model(inputs=[input_layer], outputs=[out])\n",
    "    return model"
   ]
  },
  {
   "cell_type": "code",
   "execution_count": 20,
   "metadata": {},
   "outputs": [],
   "source": [
    "## 超參數設定\n",
    "LEARNING_RATE = 1e-3\n",
    "EPOCHS = 20\n",
    "BATCH_SIZE = 256\n",
    "MOMENTUM = 0.95\n",
    "Dropout_EXP = 0.25"
   ]
  },
  {
   "cell_type": "code",
   "execution_count": 22,
   "metadata": {
    "scrolled": true
   },
   "outputs": [
    {
     "name": "stdout",
     "output_type": "stream",
     "text": [
      "Model: \"model_6\"\n",
      "_________________________________________________________________\n",
      "Layer (type)                 Output Shape              Param #   \n",
      "=================================================================\n",
      "input_6 (InputLayer)         (None, 3072)              0         \n",
      "_________________________________________________________________\n",
      "hidden_layer1 (Dense)        (None, 512)               1573376   \n",
      "_________________________________________________________________\n",
      "dropout_16 (Dropout)         (None, 512)               0         \n",
      "_________________________________________________________________\n",
      "hidden_layer2 (Dense)        (None, 256)               131328    \n",
      "_________________________________________________________________\n",
      "dropout_17 (Dropout)         (None, 256)               0         \n",
      "_________________________________________________________________\n",
      "hidden_layer3 (Dense)        (None, 128)               32896     \n",
      "_________________________________________________________________\n",
      "dropout_18 (Dropout)         (None, 128)               0         \n",
      "_________________________________________________________________\n",
      "output (Dense)               (None, 10)                1290      \n",
      "=================================================================\n",
      "Total params: 1,738,890\n",
      "Trainable params: 1,738,890\n",
      "Non-trainable params: 0\n",
      "_________________________________________________________________\n",
      "Train on 50000 samples, validate on 10000 samples\n",
      "Epoch 1/20\n",
      "50000/50000 [==============================] - 18s 358us/step - loss: 2.0519 - accuracy: 0.2412 - val_loss: 1.8537 - val_accuracy: 0.3384\n",
      "Epoch 2/20\n",
      "50000/50000 [==============================] - 15s 296us/step - loss: 1.8743 - accuracy: 0.3176 - val_loss: 1.7764 - val_accuracy: 0.3723\n",
      "Epoch 3/20\n",
      "50000/50000 [==============================] - 15s 296us/step - loss: 1.8282 - accuracy: 0.3337 - val_loss: 1.7615 - val_accuracy: 0.3715\n",
      "Epoch 4/20\n",
      "50000/50000 [==============================] - 15s 293us/step - loss: 1.7956 - accuracy: 0.3488 - val_loss: 1.6845 - val_accuracy: 0.3965\n",
      "Epoch 5/20\n",
      "50000/50000 [==============================] - 15s 294us/step - loss: 1.7618 - accuracy: 0.3604 - val_loss: 1.6663 - val_accuracy: 0.4101\n",
      "Epoch 6/20\n",
      "50000/50000 [==============================] - 15s 294us/step - loss: 1.7262 - accuracy: 0.3744 - val_loss: 1.6254 - val_accuracy: 0.4262\n",
      "Epoch 7/20\n",
      "50000/50000 [==============================] - 15s 293us/step - loss: 1.7191 - accuracy: 0.3781 - val_loss: 1.6094 - val_accuracy: 0.4281\n",
      "Epoch 8/20\n",
      "50000/50000 [==============================] - 15s 294us/step - loss: 1.6930 - accuracy: 0.3900 - val_loss: 1.6172 - val_accuracy: 0.4209\n",
      "Epoch 9/20\n",
      "50000/50000 [==============================] - 15s 292us/step - loss: 1.6811 - accuracy: 0.3901 - val_loss: 1.5877 - val_accuracy: 0.4364\n",
      "Epoch 10/20\n",
      "50000/50000 [==============================] - 15s 295us/step - loss: 1.6692 - accuracy: 0.3972 - val_loss: 1.5867 - val_accuracy: 0.4457\n",
      "Epoch 11/20\n",
      "50000/50000 [==============================] - 15s 295us/step - loss: 1.6563 - accuracy: 0.4033 - val_loss: 1.5761 - val_accuracy: 0.4463\n",
      "Epoch 12/20\n",
      "50000/50000 [==============================] - 15s 292us/step - loss: 1.6432 - accuracy: 0.4065 - val_loss: 1.5595 - val_accuracy: 0.4490\n",
      "Epoch 13/20\n",
      "50000/50000 [==============================] - 15s 293us/step - loss: 1.6338 - accuracy: 0.4099 - val_loss: 1.5656 - val_accuracy: 0.4541\n",
      "Epoch 14/20\n",
      "50000/50000 [==============================] - 15s 293us/step - loss: 1.6277 - accuracy: 0.4144 - val_loss: 1.5550 - val_accuracy: 0.4505\n",
      "Epoch 15/20\n",
      "50000/50000 [==============================] - 16s 324us/step - loss: 1.6167 - accuracy: 0.4181 - val_loss: 1.5518 - val_accuracy: 0.4497\n",
      "Epoch 16/20\n",
      "50000/50000 [==============================] - 15s 301us/step - loss: 1.6174 - accuracy: 0.4181 - val_loss: 1.5466 - val_accuracy: 0.4592\n",
      "Epoch 17/20\n",
      "50000/50000 [==============================] - 15s 295us/step - loss: 1.6008 - accuracy: 0.4215 - val_loss: 1.5330 - val_accuracy: 0.4593\n",
      "Epoch 18/20\n",
      "50000/50000 [==============================] - 15s 295us/step - loss: 1.6181 - accuracy: 0.4157 - val_loss: 1.5140 - val_accuracy: 0.4624\n",
      "Epoch 19/20\n",
      "50000/50000 [==============================] - 15s 298us/step - loss: 1.5992 - accuracy: 0.4216 - val_loss: 1.5282 - val_accuracy: 0.4568\n",
      "Epoch 20/20\n",
      "50000/50000 [==============================] - 15s 298us/step - loss: 1.5915 - accuracy: 0.4240 - val_loss: 1.5467 - val_accuracy: 0.4534\n"
     ]
    }
   ],
   "source": [
    "model = build_mlp(input_shape=x_train.shape[1:], drp_ratio=Dropout_EXP)\n",
    "model.summary()\n",
    "optimizer = keras.optimizers.Adam(lr=LEARNING_RATE,  )\n",
    "model.compile(loss=\"categorical_crossentropy\", metrics=[\"accuracy\"], optimizer=optimizer)\n",
    "\n",
    "model.fit(x_train, y_train, \n",
    "          epochs=EPOCHS, \n",
    "          batch_size=BATCH_SIZE, \n",
    "          validation_data=(x_test, y_test), \n",
    "          shuffle=True)\n",
    "\n",
    "# Collect results\n",
    "train_loss = model.history.history[\"loss\"]\n",
    "valid_loss = model.history.history[\"val_loss\"]\n",
    "train_acc = model.history.history[\"accuracy\"]\n",
    "valid_acc = model.history.history[\"val_accuracy\"]"
   ]
  },
  {
   "cell_type": "code",
   "execution_count": 23,
   "metadata": {},
   "outputs": [
    {
     "data": {
      "image/png": "[encoded data removed]",
      "text/plain": [
       "<Figure size 432x288 with 1 Axes>"
      ]
     },
     "metadata": {
      "needs_background": "light"
     },
     "output_type": "display_data"
    },
    {
     "data": {
      "image/png": "[encoded data removed]",
      "text/plain": [
       "<Figure size 432x288 with 1 Axes>"
      ]
     },
     "metadata": {
      "needs_background": "light"
     },
     "output_type": "display_data"
    }
   ],
   "source": [
    "import matplotlib.pyplot as plt\n",
    "%matplotlib inline\n",
    "\n",
    "plt.plot(range(len(train_loss)), train_loss, label=\"train loss\")\n",
    "plt.plot(range(len(valid_loss)), valid_loss, label=\"valid loss\")\n",
    "plt.legend()\n",
    "plt.title(\"Loss\")\n",
    "plt.show()\n",
    "\n",
    "plt.plot(range(len(train_acc)), train_acc, label=\"train accuracy\")\n",
    "plt.plot(range(len(valid_acc)), valid_acc, label=\"valid accuracy\")\n",
    "plt.legend()\n",
    "plt.title(\"Accuracy\")\n",
    "plt.show()"
   ]
  },
  {
   "cell_type": "code",
   "execution_count": null,
   "metadata": {},
   "outputs": [],
   "source": []
  }
 ],
 "metadata": {
  "kernelspec": {
   "display_name": "Python 3",
   "language": "python",
   "name": "python3"
  },
  "language_info": {
   "codemirror_mode": {
    "name": "ipython",
    "version": 3
   },
   "file_extension": ".py",
   "mimetype": "text/x-python",
   "name": "python",
   "nbconvert_exporter": "python",
   "pygments_lexer": "ipython3",
   "version": "3.7.3"
  }
 },
 "nbformat": 4,
 "nbformat_minor": 2
}
