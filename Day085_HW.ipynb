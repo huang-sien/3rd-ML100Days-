{
 "cells": [
  {
   "cell_type": "markdown",
   "metadata": {},
   "source": [
    "## Work\n",
    "1. 試改變 monitor \"Validation Accuracy\" 並比較結果\n",
    "2. 調整 earlystop 的等待次數至 10, 25 並比較結果"
   ]
  },
  {
   "cell_type": "code",
   "execution_count": 1,
   "metadata": {},
   "outputs": [
    {
     "name": "stderr",
     "output_type": "stream",
     "text": [
      "Using TensorFlow backend.\n"
     ]
    }
   ],
   "source": [
    "import os\n",
    "import keras\n",
    "import matplotlib.pyplot as plt\n",
    "%matplotlib inline\n",
    "\n",
    "\n",
    "# Disable GPU\n",
    "os.environ[\"CUDA_VISIBLE_DEVICES\"] = \"\""
   ]
  },
  {
   "cell_type": "code",
   "execution_count": 2,
   "metadata": {},
   "outputs": [],
   "source": [
    "train, test = keras.datasets.cifar10.load_data()"
   ]
  },
  {
   "cell_type": "code",
   "execution_count": 3,
   "metadata": {},
   "outputs": [],
   "source": [
    "## 資料前處理\n",
    "def preproc_x(x, flatten=True):\n",
    "    x = x / 255.\n",
    "    if flatten:\n",
    "        x = x.reshape((len(x), -1))\n",
    "    return x\n",
    "\n",
    "def preproc_y(y, num_classes=10):\n",
    "    if y.shape[-1] == 1:\n",
    "        y = keras.utils.to_categorical(y, num_classes)\n",
    "    return y    "
   ]
  },
  {
   "cell_type": "code",
   "execution_count": 4,
   "metadata": {},
   "outputs": [],
   "source": [
    "x_train, y_train = train\n",
    "x_test, y_test = test\n",
    "\n",
    "# Preproc the inputs\n",
    "x_train = preproc_x(x_train)\n",
    "x_test = preproc_x(x_test)\n",
    "\n",
    "# Preprc the outputs\n",
    "y_train = preproc_y(y_train)\n",
    "y_test = preproc_y(y_test)"
   ]
  },
  {
   "cell_type": "code",
   "execution_count": 5,
   "metadata": {},
   "outputs": [],
   "source": [
    "from keras.layers import BatchNormalization\n",
    "\n",
    "\"\"\"\n",
    "建立神經網路，並加入 BN layer\n",
    "\"\"\"\n",
    "def build_mlp(input_shape, output_units=10, num_neurons=[512, 256, 128]):\n",
    "    input_layer = keras.layers.Input(input_shape)\n",
    "    \n",
    "    for i, n_units in enumerate(num_neurons):\n",
    "        if i == 0:\n",
    "            x = keras.layers.Dense(units=n_units, \n",
    "                                   activation=\"relu\", \n",
    "                                   name=\"hidden_layer\"+str(i+1))(input_layer)\n",
    "            x = BatchNormalization()(x)\n",
    "        else:\n",
    "            x = keras.layers.Dense(units=n_units, \n",
    "                                   activation=\"relu\", \n",
    "                                   name=\"hidden_layer\"+str(i+1))(x)\n",
    "            x = BatchNormalization()(x)\n",
    "    \n",
    "    out = keras.layers.Dense(units=output_units, activation=\"softmax\", name=\"output\")(x)\n",
    "    \n",
    "    model = keras.models.Model(inputs=[input_layer], outputs=[out])\n",
    "    return model"
   ]
  },
  {
   "cell_type": "code",
   "execution_count": 6,
   "metadata": {},
   "outputs": [],
   "source": [
    "\"\"\"Code Here\n",
    "設定超參數\n",
    "\"\"\"\n",
    "LEARNING_RATE = 1e-3\n",
    "EPOCHS = 20\n",
    "BATCH_SIZE = 1024\n",
    "MOMENTUM = 0.95"
   ]
  },
  {
   "cell_type": "code",
   "execution_count": 7,
   "metadata": {},
   "outputs": [
    {
     "name": "stdout",
     "output_type": "stream",
     "text": [
      "Model: \"model_1\"\n",
      "_________________________________________________________________\n",
      "Layer (type)                 Output Shape              Param #   \n",
      "=================================================================\n",
      "input_1 (InputLayer)         (None, 3072)              0         \n",
      "_________________________________________________________________\n",
      "hidden_layer1 (Dense)        (None, 512)               1573376   \n",
      "_________________________________________________________________\n",
      "batch_normalization_1 (Batch (None, 512)               2048      \n",
      "_________________________________________________________________\n",
      "hidden_layer2 (Dense)        (None, 256)               131328    \n",
      "_________________________________________________________________\n",
      "batch_normalization_2 (Batch (None, 256)               1024      \n",
      "_________________________________________________________________\n",
      "hidden_layer3 (Dense)        (None, 128)               32896     \n",
      "_________________________________________________________________\n",
      "batch_normalization_3 (Batch (None, 128)               512       \n",
      "_________________________________________________________________\n",
      "output (Dense)               (None, 10)                1290      \n",
      "=================================================================\n",
      "Total params: 1,742,474\n",
      "Trainable params: 1,740,682\n",
      "Non-trainable params: 1,792\n",
      "_________________________________________________________________\n",
      "Train on 50000 samples, validate on 10000 samples\n",
      "Epoch 1/20\n",
      "50000/50000 [==============================] - 12s 231us/step - loss: 2.2466 - accuracy: 0.2647 - val_loss: 2.1276 - val_accuracy: 0.1855\n",
      "Epoch 2/20\n"
     ]
    },
    {
     "name": "stderr",
     "output_type": "stream",
     "text": [
      "D:\\anaconda\\lib\\site-packages\\keras\\callbacks\\callbacks.py:846: RuntimeWarning: Early stopping conditioned on metric `Validation Accuracy` which is not available. Available metrics are: val_loss,val_accuracy,loss,accuracy\n",
      "  (self.monitor, ','.join(list(logs.keys()))), RuntimeWarning\n"
     ]
    },
    {
     "name": "stdout",
     "output_type": "stream",
     "text": [
      "50000/50000 [==============================] - 9s 185us/step - loss: 1.7474 - accuracy: 0.3918 - val_loss: 1.9790 - val_accuracy: 0.2878\n",
      "Epoch 3/20\n",
      "50000/50000 [==============================] - 9s 181us/step - loss: 1.6140 - accuracy: 0.4355 - val_loss: 1.8519 - val_accuracy: 0.3398\n",
      "Epoch 4/20\n",
      "50000/50000 [==============================] - 9s 177us/step - loss: 1.5391 - accuracy: 0.4612 - val_loss: 1.7368 - val_accuracy: 0.3901\n",
      "Epoch 5/20\n",
      "50000/50000 [==============================] - 9s 184us/step - loss: 1.4824 - accuracy: 0.4816 - val_loss: 1.6613 - val_accuracy: 0.4160\n",
      "Epoch 6/20\n",
      "50000/50000 [==============================] - 10s 191us/step - loss: 1.4378 - accuracy: 0.4977 - val_loss: 1.5907 - val_accuracy: 0.4378\n",
      "Epoch 7/20\n",
      "50000/50000 [==============================] - 10s 198us/step - loss: 1.3942 - accuracy: 0.5128 - val_loss: 1.5659 - val_accuracy: 0.4512\n",
      "Epoch 8/20\n",
      "50000/50000 [==============================] - 9s 179us/step - loss: 1.3578 - accuracy: 0.5262 - val_loss: 1.5139 - val_accuracy: 0.4669\n",
      "Epoch 9/20\n",
      "50000/50000 [==============================] - 9s 170us/step - loss: 1.3241 - accuracy: 0.5380 - val_loss: 1.5100 - val_accuracy: 0.4680\n",
      "Epoch 10/20\n",
      "50000/50000 [==============================] - 9s 170us/step - loss: 1.2960 - accuracy: 0.5496 - val_loss: 1.4929 - val_accuracy: 0.4689\n",
      "Epoch 11/20\n",
      "50000/50000 [==============================] - 8s 168us/step - loss: 1.2682 - accuracy: 0.5593 - val_loss: 1.4730 - val_accuracy: 0.4817\n",
      "Epoch 12/20\n",
      "50000/50000 [==============================] - 9s 171us/step - loss: 1.2383 - accuracy: 0.5701 - val_loss: 1.4711 - val_accuracy: 0.4814\n",
      "Epoch 13/20\n",
      "50000/50000 [==============================] - 8s 168us/step - loss: 1.2132 - accuracy: 0.5786 - val_loss: 1.4670 - val_accuracy: 0.4802\n",
      "Epoch 14/20\n",
      "50000/50000 [==============================] - 9s 177us/step - loss: 1.1894 - accuracy: 0.5874 - val_loss: 1.4598 - val_accuracy: 0.4876\n",
      "Epoch 15/20\n",
      "50000/50000 [==============================] - 8s 167us/step - loss: 1.1654 - accuracy: 0.5970 - val_loss: 1.4531 - val_accuracy: 0.4926\n",
      "Epoch 16/20\n",
      "50000/50000 [==============================] - 9s 174us/step - loss: 1.1386 - accuracy: 0.6080 - val_loss: 1.4526 - val_accuracy: 0.4961\n",
      "Epoch 17/20\n",
      "50000/50000 [==============================] - 8s 166us/step - loss: 1.1162 - accuracy: 0.6177 - val_loss: 1.4537 - val_accuracy: 0.4926\n",
      "Epoch 18/20\n",
      "50000/50000 [==============================] - 9s 174us/step - loss: 1.0933 - accuracy: 0.6260 - val_loss: 1.4480 - val_accuracy: 0.4969\n",
      "Epoch 19/20\n",
      "50000/50000 [==============================] - 8s 165us/step - loss: 1.0723 - accuracy: 0.6336 - val_loss: 1.4625 - val_accuracy: 0.4869\n",
      "Epoch 20/20\n",
      "50000/50000 [==============================] - 9s 173us/step - loss: 1.0509 - accuracy: 0.6411 - val_loss: 1.4531 - val_accuracy: 0.4940\n"
     ]
    }
   ],
   "source": [
    "# 載入 Callbacks\n",
    "\"\"\"Code Here\n",
    "設定 callbacks: Earlystop\n",
    "\"\"\"\n",
    "from keras.callbacks import EarlyStopping\n",
    "\n",
    "earlystop = EarlyStopping(monitor=\"Validation Accuracy\", \n",
    "                          patience=5, \n",
    "                          verbose=1\n",
    "                          )\n",
    "model = build_mlp(input_shape=x_train.shape[1:])\n",
    "model.summary()\n",
    "optimizer = keras.optimizers.SGD(lr=LEARNING_RATE, nesterov=True, momentum=MOMENTUM)\n",
    "model.compile(loss=\"categorical_crossentropy\", metrics=[\"accuracy\"], optimizer=optimizer)\n",
    "\n",
    "model.fit(x_train, y_train, \n",
    "          epochs=EPOCHS, \n",
    "          batch_size=BATCH_SIZE, \n",
    "          validation_data=(x_test, y_test), \n",
    "          shuffle=True,\n",
    "          callbacks=[earlystop]\n",
    "         )\n",
    "\n",
    "# Collect results\n",
    "train_loss = model.history.history[\"loss\"]\n",
    "valid_loss = model.history.history[\"val_loss\"]\n",
    "train_acc = model.history.history[\"accuracy\"]\n",
    "valid_acc = model.history.history[\"val_accuracy\"]"
   ]
  },
  {
   "cell_type": "code",
   "execution_count": 8,
   "metadata": {},
   "outputs": [
    {
     "data": {
      "image/png": "[encoded data removed]",
      "text/plain": [
       "<Figure size 432x288 with 1 Axes>"
      ]
     },
     "metadata": {
      "needs_background": "light"
     },
     "output_type": "display_data"
    },
    {
     "data": {
      "image/png": "[encoded data removed]",
      "text/plain": [
       "<Figure size 432x288 with 1 Axes>"
      ]
     },
     "metadata": {
      "needs_background": "light"
     },
     "output_type": "display_data"
    }
   ],
   "source": [
    "import matplotlib.pyplot as plt\n",
    "%matplotlib inline\n",
    "\n",
    "plt.plot(range(len(train_loss)), train_loss, label=\"train loss\")\n",
    "plt.plot(range(len(valid_loss)), valid_loss, label=\"valid loss\")\n",
    "plt.legend()\n",
    "plt.title(\"Loss\")\n",
    "plt.show()\n",
    "\n",
    "plt.plot(range(len(train_acc)), train_acc, label=\"train accuracy\")\n",
    "plt.plot(range(len(valid_acc)), valid_acc, label=\"valid accuracy\")\n",
    "plt.legend()\n",
    "plt.title(\"Accuracy\")\n",
    "plt.show()"
   ]
  },
  {
   "cell_type": "code",
   "execution_count": null,
   "metadata": {},
   "outputs": [],
   "source": []
  }
 ],
 "metadata": {
  "kernelspec": {
   "display_name": "Python 3",
   "language": "python",
   "name": "python3"
  },
  "language_info": {
   "codemirror_mode": {
    "name": "ipython",
    "version": 3
   },
   "file_extension": ".py",
   "mimetype": "text/x-python",
   "name": "python",
   "nbconvert_exporter": "python",
   "pygments_lexer": "ipython3",
   "version": "3.7.3"
  }
 },
 "nbformat": 4,
 "nbformat_minor": 2
}
